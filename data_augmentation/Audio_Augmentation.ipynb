{
  "nbformat": 4,
  "nbformat_minor": 0,
  "metadata": {
    "colab": {
      "provenance": [],
      "collapsed_sections": [
        "9C_6WMLuV9d9",
        "czg8Pn2Fkoq9",
        "W5gSeaRFqH7w",
        "NPIZ8NdDI8RL",
        "PRRWt9chJCvT"
      ]
    },
    "kernelspec": {
      "name": "python3",
      "display_name": "Python 3"
    },
    "language_info": {
      "name": "python"
    }
  },
  "cells": [
    {
      "cell_type": "code",
      "execution_count": null,
      "metadata": {
        "colab": {
          "base_uri": "https://localhost:8080/"
        },
        "collapsed": true,
        "id": "ZwpRYSS8b8MI",
        "outputId": "e283c0a4-32ec-41c8-a438-2f0e707fbce6"
      },
      "outputs": [
        {
          "output_type": "stream",
          "name": "stdout",
          "text": [
            "Collecting pyworld\n",
            "  Downloading pyworld-0.3.5.tar.gz (261 kB)\n",
            "\u001b[2K     \u001b[90m━━━━━━━━━━━━━━━━━━━━━━━━━━━━━━━━━━━━━━━\u001b[0m \u001b[32m261.0/261.0 kB\u001b[0m \u001b[31m3.6 MB/s\u001b[0m eta \u001b[36m0:00:00\u001b[0m\n",
            "\u001b[?25h  Installing build dependencies ... \u001b[?25l\u001b[?25hdone\n",
            "  Getting requirements to build wheel ... \u001b[?25l\u001b[?25hdone\n",
            "  Preparing metadata (pyproject.toml) ... \u001b[?25l\u001b[?25hdone\n",
            "Requirement already satisfied: numpy in /usr/local/lib/python3.11/dist-packages (from pyworld) (2.0.2)\n",
            "Building wheels for collected packages: pyworld\n",
            "  Building wheel for pyworld (pyproject.toml) ... \u001b[?25l\u001b[?25hdone\n",
            "  Created wheel for pyworld: filename=pyworld-0.3.5-cp311-cp311-linux_x86_64.whl size=899941 sha256=418b3c821a49241e5ac569395e657a128496aff0239f00fae011efe18aa720d0\n",
            "  Stored in directory: /root/.cache/pip/wheels/26/f0/db/ebcd5cdfe5ad7d229917d3a8db6f18f0cf40f099bf878e294d\n",
            "Successfully built pyworld\n",
            "Installing collected packages: pyworld\n",
            "Successfully installed pyworld-0.3.5\n",
            "Collecting pyroomacoustics\n",
            "  Downloading pyroomacoustics-0.8.3.tar.gz (35.1 MB)\n",
            "\u001b[2K     \u001b[90m━━━━━━━━━━━━━━━━━━━━━━━━━━━━━━━━━━━━━━━━\u001b[0m \u001b[32m35.1/35.1 MB\u001b[0m \u001b[31m52.9 MB/s\u001b[0m eta \u001b[36m0:00:00\u001b[0m\n",
            "\u001b[?25h  Installing build dependencies ... \u001b[?25l\u001b[?25hdone\n",
            "  Getting requirements to build wheel ... \u001b[?25l\u001b[?25hdone\n",
            "  Preparing metadata (pyproject.toml) ... \u001b[?25l\u001b[?25hdone\n",
            "Requirement already satisfied: Cython in /usr/local/lib/python3.11/dist-packages (from pyroomacoustics) (3.0.12)\n",
            "Requirement already satisfied: numpy>=1.13.0 in /usr/local/lib/python3.11/dist-packages (from pyroomacoustics) (2.0.2)\n",
            "Requirement already satisfied: scipy>=0.18.0 in /usr/local/lib/python3.11/dist-packages (from pyroomacoustics) (1.14.1)\n",
            "Collecting pybind11>=2.2 (from pyroomacoustics)\n",
            "  Using cached pybind11-2.13.6-py3-none-any.whl.metadata (9.5 kB)\n",
            "Using cached pybind11-2.13.6-py3-none-any.whl (243 kB)\n",
            "Building wheels for collected packages: pyroomacoustics\n",
            "  Building wheel for pyroomacoustics (pyproject.toml) ... \u001b[?25l\u001b[?25hdone\n",
            "  Created wheel for pyroomacoustics: filename=pyroomacoustics-0.8.3-cp311-cp311-linux_x86_64.whl size=46837530 sha256=e5b98954effd6f6a3ff38b9487943b4fd84b8e1e0cb1f5ee86008a6b1d5630c8\n",
            "  Stored in directory: /root/.cache/pip/wheels/63/45/21/e7df2e64ca3b125fd4d6da69c8a4ee46d0ad6acc1f3de6832f\n",
            "Successfully built pyroomacoustics\n",
            "Installing collected packages: pybind11, pyroomacoustics\n",
            "Successfully installed pybind11-2.13.6 pyroomacoustics-0.8.3\n",
            "Reading package lists... Done\n",
            "Building dependency tree... Done\n",
            "Reading state information... Done\n",
            "The following additional packages will be installed:\n",
            "  libopencore-amrnb0 libopencore-amrwb0 libsox-fmt-alsa libsox-fmt-base\n",
            "  libsox3 libwavpack1\n",
            "Suggested packages:\n",
            "  libsox-fmt-all\n",
            "The following NEW packages will be installed:\n",
            "  libopencore-amrnb0 libopencore-amrwb0 libsox-fmt-alsa libsox-fmt-base\n",
            "  libsox3 libwavpack1 sox\n",
            "0 upgraded, 7 newly installed, 0 to remove and 30 not upgraded.\n",
            "Need to get 617 kB of archives.\n",
            "After this operation, 1,764 kB of additional disk space will be used.\n",
            "Get:1 http://archive.ubuntu.com/ubuntu jammy/universe amd64 libopencore-amrnb0 amd64 0.1.5-1 [94.8 kB]\n",
            "Get:2 http://archive.ubuntu.com/ubuntu jammy/universe amd64 libopencore-amrwb0 amd64 0.1.5-1 [49.1 kB]\n",
            "Get:3 http://archive.ubuntu.com/ubuntu jammy-updates/universe amd64 libsox3 amd64 14.4.2+git20190427-2+deb11u2ubuntu0.22.04.1 [240 kB]\n",
            "Get:4 http://archive.ubuntu.com/ubuntu jammy-updates/universe amd64 libsox-fmt-alsa amd64 14.4.2+git20190427-2+deb11u2ubuntu0.22.04.1 [11.2 kB]\n",
            "Get:5 http://archive.ubuntu.com/ubuntu jammy/main amd64 libwavpack1 amd64 5.4.0-1build2 [83.7 kB]\n",
            "Get:6 http://archive.ubuntu.com/ubuntu jammy-updates/universe amd64 libsox-fmt-base amd64 14.4.2+git20190427-2+deb11u2ubuntu0.22.04.1 [33.7 kB]\n",
            "Get:7 http://archive.ubuntu.com/ubuntu jammy-updates/universe amd64 sox amd64 14.4.2+git20190427-2+deb11u2ubuntu0.22.04.1 [104 kB]\n",
            "Fetched 617 kB in 1s (650 kB/s)\n",
            "Selecting previously unselected package libopencore-amrnb0:amd64.\n",
            "(Reading database ... 126315 files and directories currently installed.)\n",
            "Preparing to unpack .../0-libopencore-amrnb0_0.1.5-1_amd64.deb ...\n",
            "Unpacking libopencore-amrnb0:amd64 (0.1.5-1) ...\n",
            "Selecting previously unselected package libopencore-amrwb0:amd64.\n",
            "Preparing to unpack .../1-libopencore-amrwb0_0.1.5-1_amd64.deb ...\n",
            "Unpacking libopencore-amrwb0:amd64 (0.1.5-1) ...\n",
            "Selecting previously unselected package libsox3:amd64.\n",
            "Preparing to unpack .../2-libsox3_14.4.2+git20190427-2+deb11u2ubuntu0.22.04.1_amd64.deb ...\n",
            "Unpacking libsox3:amd64 (14.4.2+git20190427-2+deb11u2ubuntu0.22.04.1) ...\n",
            "Selecting previously unselected package libsox-fmt-alsa:amd64.\n",
            "Preparing to unpack .../3-libsox-fmt-alsa_14.4.2+git20190427-2+deb11u2ubuntu0.22.04.1_amd64.deb ...\n",
            "Unpacking libsox-fmt-alsa:amd64 (14.4.2+git20190427-2+deb11u2ubuntu0.22.04.1) ...\n",
            "Selecting previously unselected package libwavpack1:amd64.\n",
            "Preparing to unpack .../4-libwavpack1_5.4.0-1build2_amd64.deb ...\n",
            "Unpacking libwavpack1:amd64 (5.4.0-1build2) ...\n",
            "Selecting previously unselected package libsox-fmt-base:amd64.\n",
            "Preparing to unpack .../5-libsox-fmt-base_14.4.2+git20190427-2+deb11u2ubuntu0.22.04.1_amd64.deb ...\n",
            "Unpacking libsox-fmt-base:amd64 (14.4.2+git20190427-2+deb11u2ubuntu0.22.04.1) ...\n",
            "Selecting previously unselected package sox.\n",
            "Preparing to unpack .../6-sox_14.4.2+git20190427-2+deb11u2ubuntu0.22.04.1_amd64.deb ...\n",
            "Unpacking sox (14.4.2+git20190427-2+deb11u2ubuntu0.22.04.1) ...\n",
            "Setting up libsox3:amd64 (14.4.2+git20190427-2+deb11u2ubuntu0.22.04.1) ...\n",
            "Setting up libopencore-amrwb0:amd64 (0.1.5-1) ...\n",
            "Setting up libsox-fmt-alsa:amd64 (14.4.2+git20190427-2+deb11u2ubuntu0.22.04.1) ...\n",
            "Setting up libwavpack1:amd64 (5.4.0-1build2) ...\n",
            "Setting up libopencore-amrnb0:amd64 (0.1.5-1) ...\n",
            "Setting up libsox-fmt-base:amd64 (14.4.2+git20190427-2+deb11u2ubuntu0.22.04.1) ...\n",
            "Setting up sox (14.4.2+git20190427-2+deb11u2ubuntu0.22.04.1) ...\n",
            "Processing triggers for libc-bin (2.35-0ubuntu3.8) ...\n",
            "/sbin/ldconfig.real: /usr/local/lib/libtbbbind_2_0.so.3 is not a symbolic link\n",
            "\n",
            "/sbin/ldconfig.real: /usr/local/lib/libtbb.so.12 is not a symbolic link\n",
            "\n",
            "/sbin/ldconfig.real: /usr/local/lib/libtcm_debug.so.1 is not a symbolic link\n",
            "\n",
            "/sbin/ldconfig.real: /usr/local/lib/libur_adapter_opencl.so.0 is not a symbolic link\n",
            "\n",
            "/sbin/ldconfig.real: /usr/local/lib/libumf.so.0 is not a symbolic link\n",
            "\n",
            "/sbin/ldconfig.real: /usr/local/lib/libur_adapter_level_zero.so.0 is not a symbolic link\n",
            "\n",
            "/sbin/ldconfig.real: /usr/local/lib/libtbbbind.so.3 is not a symbolic link\n",
            "\n",
            "/sbin/ldconfig.real: /usr/local/lib/libtbbmalloc_proxy.so.2 is not a symbolic link\n",
            "\n",
            "/sbin/ldconfig.real: /usr/local/lib/libtbbbind_2_5.so.3 is not a symbolic link\n",
            "\n",
            "/sbin/ldconfig.real: /usr/local/lib/libhwloc.so.15 is not a symbolic link\n",
            "\n",
            "/sbin/ldconfig.real: /usr/local/lib/libur_loader.so.0 is not a symbolic link\n",
            "\n",
            "/sbin/ldconfig.real: /usr/local/lib/libtbbmalloc.so.2 is not a symbolic link\n",
            "\n",
            "/sbin/ldconfig.real: /usr/local/lib/libtcm.so.1 is not a symbolic link\n",
            "\n",
            "Processing triggers for man-db (2.10.2-1) ...\n",
            "Processing triggers for mailcap (3.70+nmu1ubuntu1) ...\n"
          ]
        }
      ],
      "source": [
        "!pip install pyworld\n",
        "!pip install pyroomacoustics\n",
        "!apt-get install sox"
      ]
    },
    {
      "cell_type": "code",
      "source": [
        "import os\n",
        "import shutil\n",
        "import zipfile\n",
        "import subprocess\n",
        "import numpy as np\n",
        "import soundfile as sf\n",
        "import pyworld as pw\n",
        "import pyroomacoustics as pra\n",
        "import librosa\n",
        "from scipy.interpolate import interp1d\n",
        "from google.colab import drive"
      ],
      "metadata": {
        "id": "oGRyWw3fcIKe"
      },
      "execution_count": null,
      "outputs": []
    },
    {
      "cell_type": "code",
      "source": [
        "drive.mount('/content/drive')"
      ],
      "metadata": {
        "id": "sXYN0fR-tkBe",
        "colab": {
          "base_uri": "https://localhost:8080/"
        },
        "outputId": "eeb73a77-6fa9-48ac-b8f9-5eecab232cea"
      },
      "execution_count": null,
      "outputs": [
        {
          "output_type": "stream",
          "name": "stdout",
          "text": [
            "Mounted at /content/drive\n"
          ]
        }
      ]
    },
    {
      "cell_type": "markdown",
      "source": [
        "# PyWorld, SoX, and Noise Injection"
      ],
      "metadata": {
        "id": "9C_6WMLuV9d9"
      }
    },
    {
      "cell_type": "code",
      "source": [
        "# function for adding pseudo-child speakers from original adult speaker (formant & pitch shifting)\n",
        "def shift_formants_pyworld(audio_path, output_path, formant_shift_ratio, pitch_shift_ratio):\n",
        "\n",
        "    x, fs = librosa.load(audio_path, sr=None)\n",
        "    x = x.astype(np.float64)\n",
        "\n",
        "    _f0, t = pw.harvest(x, fs)\n",
        "    f0 = pw.stonemask(x, _f0, t, fs)\n",
        "    sp = pw.cheaptrick(x, f0, t, fs)  # spectral envelope\n",
        "    ap = pw.d4c(x, f0, t, fs)         # aperiodicity\n",
        "\n",
        "    f0_shifted = f0 * pitch_shift_ratio   # pitch shift\n",
        "\n",
        "    # spectral envelope warping to simulate shorter vocal tract (higher formants, i.e., child voices)\n",
        "    def warp_spectral_envelope(sp, ratio):\n",
        "        warped_sp = np.zeros_like(sp)\n",
        "        n_frames, n_bins = sp.shape\n",
        "        freq_axis = np.linspace(0, fs / 2, n_bins)\n",
        "        warped_freq_axis = np.clip(freq_axis * ratio, 0, fs / 2)\n",
        "\n",
        "        for i in range(n_frames):\n",
        "            interp_func = interp1d(warped_freq_axis, sp[i], kind='linear',\n",
        "                                   fill_value='extrapolate', bounds_error=False)\n",
        "            warped_sp[i] = interp_func(freq_axis)\n",
        "        return warped_sp\n",
        "\n",
        "    sp_warped = warp_spectral_envelope(sp, formant_shift_ratio)\n",
        "    y = pw.synthesize(f0_shifted, sp_warped, ap, fs)\n",
        "    sf.write(output_path, y.astype(np.float32), fs)"
      ],
      "metadata": {
        "id": "isuFthciWA5B"
      },
      "execution_count": null,
      "outputs": []
    },
    {
      "cell_type": "code",
      "source": [
        "# function for time stretching on audio\n",
        "def sox_time_stretch(input_path, output_path, factor):\n",
        "    os.makedirs(os.path.dirname(output_path), exist_ok=True)\n",
        "    subprocess.run([\"sox\", input_path, output_path, \"tempo\", str(factor), \"rate\", \"16000\"], check=True)"
      ],
      "metadata": {
        "id": "Y8sWMP0e_pVo"
      },
      "execution_count": null,
      "outputs": []
    },
    {
      "cell_type": "code",
      "source": [
        "# function for noise injection\n",
        "def add_noise(y, snr_db):\n",
        "    rms = np.sqrt(np.mean(y**2))\n",
        "    noise_std = rms / (10**(snr_db / 20))\n",
        "    noise = np.random.normal(0, noise_std, y.shape)\n",
        "    return y + noise"
      ],
      "metadata": {
        "id": "e93pxZDJDBee"
      },
      "execution_count": null,
      "outputs": []
    },
    {
      "cell_type": "markdown",
      "source": [
        "# Pyroomacoustics"
      ],
      "metadata": {
        "id": "czg8Pn2Fkoq9"
      }
    },
    {
      "cell_type": "code",
      "source": [
        "# function for applying room-like reverb on audio\n",
        "def reverb(input_dir, output_dir, room_dim, absorption, max_order, source_location, mic_location):\n",
        "    signal, fs = sf.read(input_dir)\n",
        "    room = pra.ShoeBox(room_dim, fs=fs, max_order=max_order, absorption=absorption)\n",
        "    room.add_source(source_location, signal=signal)\n",
        "    room.add_microphone_array(pra.MicrophoneArray(mic_location, fs=fs))\n",
        "    room.simulate()\n",
        "    reverberated_signal = room.mic_array.signals[0]\n",
        "    sf.write(output_dir, reverberated_signal.astype(np.float32), fs)"
      ],
      "metadata": {
        "id": "SQeHHR6VKZks"
      },
      "execution_count": null,
      "outputs": []
    },
    {
      "cell_type": "code",
      "source": [
        "# function for applying reverb with noise on audio, simulating real-world classroom settings\n",
        "def reverb_with_noise(input_dir, output_dir, room_dim, absorption, max_order, source_location, mic_location, snr_db):\n",
        "    signal, fs = sf.read(input_dir)\n",
        "    room = pra.ShoeBox(room_dim, fs=fs, max_order=max_order, absorption=absorption)\n",
        "    room.add_source(source_location, signal=signal)\n",
        "    room.add_microphone_array(pra.MicrophoneArray(mic_location, fs=fs))\n",
        "    room.simulate()\n",
        "    reverberated_signal = room.mic_array.signals[0]\n",
        "    y_noise = add_noise(reverberated_signal, snr_db=snr_db)\n",
        "    sf.write(output_dir, y_noise.astype(np.float32), fs)"
      ],
      "metadata": {
        "id": "5blTKWWrMBqX"
      },
      "execution_count": null,
      "outputs": []
    },
    {
      "cell_type": "markdown",
      "source": [
        "# AUGMENTATION"
      ],
      "metadata": {
        "id": "W5gSeaRFqH7w"
      }
    },
    {
      "cell_type": "code",
      "source": [
        "# SPEAKER/AUGMENT GUIDELINES\n",
        "'''\n",
        "ORIGINAL SPEAKER:\n",
        "BR01 - Female adult voice\n",
        "\n",
        "PSEUDO-SPEAKERS:\n",
        "BR02 - Main child voice (male)\n",
        "BR03 - Slightly older child voice\n",
        "BR04 - female child voice\n",
        "\n",
        "AUGMENTS (FEMALE ADULT):\n",
        "XXX-1 = ORIGINAL\n",
        "XXX-2 = +1 semitone (female adult)\n",
        "XXX-3 = 1.1x + 20dB noise\n",
        "XXX-4 = 0.9X\n",
        "XXX-5 = noise (15dB)\n",
        "XXX-6 = reverb 1\n",
        "XXX-7 = noise (25dB) + reverb 2\n",
        "\n",
        "AUGMENTS (PSEUDO-CHILD):\n",
        "XXX-1 = ORIGINAL\n",
        "XXX-2 = pitch +2.4 semitones\n",
        "XXX-3 = 1.1x + 20dB noise\n",
        "XXX-4 = 1.2x\n",
        "XXX-5 = 0.95x + pitch +2.4 semitones\n",
        "XXX-6 = noise (15dB)\n",
        "XXX-7 = reverb 1\n",
        "XXX-8 = noise (20dB) + reverb 2\n",
        "XXX-9 = noise (20dB) + reverb 3\n",
        "\n",
        "TOTAL HOURS (hh:mm:ss):\n",
        " - FEMALE ADULT = 06:18:24\n",
        " - CHILD VOICE = 07:55:22 each (23:46:06 total)\n",
        " - TOTAL = 30:04:30\n",
        "\n",
        "*Reverb Simulations:\n",
        "  - Reverb 1: Simulates well-treated room\n",
        "  - Reverb 2: Simulates room with thin walls, with speaker being near the wall\n",
        "  - Reverb 3: Simulates old room with strong echo/reverb\n",
        "'''"
      ],
      "metadata": {
        "id": "K2DI4H0fqc0k"
      },
      "execution_count": null,
      "outputs": []
    },
    {
      "cell_type": "code",
      "source": [
        "# CREATE PSEUDO SPEAKERS FROM ORIGINAL (CHILD 1-3)\n",
        "wav_path = '/content/drive/path/to/audio/source' # directory of original speaker\n",
        "out_path = '/content/drive/path/to/audio/output'\n",
        "num_files = 0\n",
        "\n",
        "for wav_file in sorted(os.listdir(wav_path)):\n",
        "  if wav_file.endswith('.wav'):\n",
        "    wav_file_path = os.path.join(wav_path, wav_file)\n",
        "    out_file_name = wav_file.replace('BR01', 'BR0X') # change depending on speaker id\n",
        "    out_file = out_file_name.replace('_orig.wav', '.wav')\n",
        "    out_file_path = os.path.join(out_path, out_file)\n",
        "    shift_formants_pyworld(wav_file_path, out_file_path, formant_shift_ratio=1.21, pitch_shift_ratio=1.315) # CHILD 1 (BR02)\n",
        "    #shift_formants_pyworld(wav_file_path, out_file_path, formant_shift_ratio=1.1, pitch_shift_ratio=1.2) # CHILD 2 (BR03)\n",
        "    #shift_formants_pyworld(wav_file_path, out_file_path, formant_shift_ratio=1.305, pitch_shift_ratio=1.425) # CHILD 3 (BR04)\n",
        "\n",
        "    num_files += 1\n",
        "    print(f\"{wav_file} - Processed {num_files} files\")"
      ],
      "metadata": {
        "id": "AJlC_yLQtYix"
      },
      "execution_count": null,
      "outputs": []
    },
    {
      "cell_type": "markdown",
      "source": [
        "## Augment pseudo-child speakers"
      ],
      "metadata": {
        "id": "NPIZ8NdDI8RL"
      }
    },
    {
      "cell_type": "code",
      "source": [
        "# AUGMENT PSEUDO-CHILD SPEAKERS\n",
        "wav_path_augment = out_path # directory containing pseudo speakers\n",
        "out_path_augment = f\"{wav_path_augment}/BR0X_augments\" # change depending on speaker id\n",
        "num_files = 0\n",
        "\n",
        "for wav_file in sorted(os.listdir(wav_path_augment)):\n",
        "  if wav_file.endswith('.wav'):\n",
        "    wav_file_path = os.path.join(wav_path_augment, wav_file)\n",
        "\n",
        "    # 2 (pitch +2.4 semitones)\n",
        "    out_file = wav_file.replace('-1.wav', '-2.wav')\n",
        "    out_file_path = os.path.join(out_path_augment, out_file)\n",
        "    shift_formants_pyworld(wav_file_path, out_file_path, formant_shift_ratio=1.0, pitch_shift_ratio=1.15)\n",
        "    num_files += 1\n",
        "    print(f\"{wav_file} - Processed {num_files} files\")\n",
        "\n",
        "    # 3 (1.1x + 20dB noise)\n",
        "    tmp_file = wav_file.replace('-1.wav', '-tmp1.wav')\n",
        "    tmp_file_path = os.path.join('/content/temp', tmp_file)\n",
        "    sox_time_stretch(wav_file_path, tmp_file_path, 1.1)\n",
        "    out_file = wav_file.replace('-1.wav', '-3.wav')\n",
        "    out_file_path = os.path.join(out_path_augment, out_file)\n",
        "    signal_tmp, fs = sf.read(tmp_file_path)\n",
        "    y_noise = add_noise(signal_tmp, snr_db=20)\n",
        "    sf.write(out_file_path, y_noise, fs)\n",
        "    num_files += 1\n",
        "    print(f\"{wav_file} - Processed {num_files} files\")\n",
        "\n",
        "    # 4 (1.2x)\n",
        "    out_file = wav_file.replace('-1.wav', '-4.wav')\n",
        "    out_file_path = os.path.join(out_path_augment, out_file)\n",
        "    sox_time_stretch(wav_file_path, out_file_path, 1.2)\n",
        "    num_files += 1\n",
        "    print(f\"{wav_file} - Processed {num_files} files\")\n",
        "\n",
        "    # 5 (0.95x + pitch +2.4 semitones)\n",
        "    tmp_file = wav_file.replace('-1.wav', '-tmp2.wav')\n",
        "    tmp_file_path = os.path.join('/content/temp', tmp_file)\n",
        "    shift_formants_pyworld(wav_file_path, tmp_file_path, formant_shift_ratio=1.0, pitch_shift_ratio=1.15)\n",
        "    out_file = wav_file.replace('-1.wav', '-5.wav')\n",
        "    out_file_path = os.path.join(out_path_augment, out_file)\n",
        "    sox_time_stretch(tmp_file_path, out_file_path, 0.95)\n",
        "    num_files += 1\n",
        "    print(f\"{wav_file} - Processed {num_files} files\")\n",
        "\n",
        "    # 6 (noise (15dB))\n",
        "    out_file = wav_file.replace('-1.wav', '-6.wav')\n",
        "    out_file_path = os.path.join(out_path_augment, out_file)\n",
        "    signal_orig, fs = sf.read(wav_file_path)\n",
        "    y_noise = add_noise(signal_orig, snr_db=15)\n",
        "    sf.write(out_file_path, y_noise, fs)\n",
        "    num_files += 1\n",
        "    print(f\"{wav_file} - Processed {num_files} files\")\n",
        "\n",
        "    # 7 (reverb 1)\n",
        "    out_file = wav_file.replace('-1.wav', '-7.wav')\n",
        "    out_file_path = os.path.join(out_path_augment, out_file)\n",
        "    reverb(wav_file_path, out_file_path, room_dim=[6.5, 5, 3], absorption=0.4, max_order=11, source_location=[1, 1, 1.2], mic_location=np.array([[3], [2], [1.2]]))\n",
        "    num_files += 1\n",
        "    print(f\"{wav_file} - Processed {num_files} files\")\n",
        "\n",
        "    # 8 (noise (20dB) + reverb 2)\n",
        "    out_file = wav_file.replace('-1.wav', '-8.wav')\n",
        "    out_file_path = os.path.join(out_path_augment, out_file)\n",
        "    reverb_with_noise(wav_file_path, out_file_path, room_dim=[8, 7, 3], absorption=0.3, max_order=9, source_location=[1, 1, 1.2], mic_location=np.array([[5.5], [3], [1.2]]), snr_db=20)\n",
        "    num_files += 1\n",
        "    print(f\"{wav_file} - Processed {num_files} files\")\n",
        "\n",
        "    # 9 (noise (20dB) + reverb 3)\n",
        "    out_file = wav_file.replace('-1.wav', '-9.wav')\n",
        "    out_file_path = os.path.join(out_path_augment, out_file)\n",
        "    reverb_with_noise(wav_file_path, out_file_path, room_dim=[6, 5, 2.8], absorption=0.25, max_order=12, source_location=[2, 3, 1.2], mic_location=np.array([[5], [2], [1.2]]), snr_db=20)\n",
        "    num_files += 1\n",
        "    print(f\"{wav_file} - Processed {num_files} files\")"
      ],
      "metadata": {
        "id": "Pri28M_L7sg5",
        "collapsed": true
      },
      "execution_count": null,
      "outputs": []
    },
    {
      "cell_type": "markdown",
      "source": [
        "## Augment female adult speaker"
      ],
      "metadata": {
        "id": "PRRWt9chJCvT"
      }
    },
    {
      "cell_type": "code",
      "source": [
        "# AUGMENT FEMALE ADULT SPEAKER\n",
        "wav_path_augment = wav_path # directory of original speaker\n",
        "out_path_augment = f\"{wav_path_augment}/BR01_augments\"\n",
        "num_files = 0\n",
        "\n",
        "for wav_file in sorted(os.listdir(wav_path_augment)):\n",
        "  if wav_file.endswith('_orig.wav'):\n",
        "    wav_file_path = os.path.join(wav_path_augment, wav_file)\n",
        "\n",
        "    # 2 (+1 semitone)\n",
        "    out_file = wav_file.replace('-1_orig.wav', '-2.wav')\n",
        "    out_file_path = os.path.join(out_path_augment, out_file)\n",
        "    shift_formants_pyworld(wav_file_path, out_file_path, formant_shift_ratio=1.0, pitch_shift_ratio=1.059)\n",
        "    num_files += 1\n",
        "    print(f\"{wav_file} - Processed {num_files} files\")\n",
        "\n",
        "    # 3 (1.1x + 20dB noise)\n",
        "    tmp_file = wav_file.replace('-1_orig.wav', '-tmp1.wav')\n",
        "    tmp_file_path = os.path.join('/content/temp', tmp_file)\n",
        "    sox_time_stretch(wav_file_path, tmp_file_path, 1.1)\n",
        "    out_file = wav_file.replace('-1_orig.wav', '-3.wav')\n",
        "    out_file_path = os.path.join(out_path_augment, out_file)\n",
        "    signal_tmp, fs = sf.read(tmp_file_path)\n",
        "    y_noise = add_noise(signal_tmp, snr_db=20)\n",
        "    sf.write(out_file_path, y_noise, fs)\n",
        "    num_files += 1\n",
        "    print(f\"{wav_file} - Processed {num_files} files\")\n",
        "\n",
        "    # 4 (0.9X)\n",
        "    out_file = wav_file.replace('-1_orig.wav', '-4.wav')\n",
        "    out_file_path = os.path.join(out_path_augment, out_file)\n",
        "    sox_time_stretch(wav_file_path, out_file_path, 0.9)\n",
        "    num_files += 1\n",
        "    print(f\"{wav_file} - Processed {num_files} files\")\n",
        "\n",
        "    # 5 (noise (15dB))\n",
        "    out_file = wav_file.replace('-1_orig.wav', '-5.wav')\n",
        "    out_file_path = os.path.join(out_path_augment, out_file)\n",
        "    signal_orig, fs = sf.read(wav_file_path)\n",
        "    y_noise = add_noise(signal_orig, snr_db=15)\n",
        "    sf.write(out_file_path, y_noise, fs)\n",
        "    num_files += 1\n",
        "    print(f\"{wav_file} - Processed {num_files} files\")\n",
        "\n",
        "    # 6 (reverb 1)\n",
        "    out_file = wav_file.replace('-1_orig.wav', '-6.wav')\n",
        "    out_file_path = os.path.join(out_path_augment, out_file)\n",
        "    reverb(wav_file_path, out_file_path, room_dim=[6.5, 5, 3], absorption=0.4, max_order=11, source_location=[1, 1, 1.2], mic_location=np.array([[3], [2], [1.2]]))\n",
        "    num_files += 1\n",
        "    print(f\"{wav_file} - Processed {num_files} files\")\n",
        "\n",
        "    # 7 (noise (25dB) + reverb 2)\n",
        "    out_file = wav_file.replace('-1_orig.wav', '-7.wav')\n",
        "    out_file_path = os.path.join(out_path_augment, out_file)\n",
        "    reverb_with_noise(wav_file_path, out_file_path, room_dim=[8, 7, 3], absorption=0.3, max_order=9, source_location=[1, 1, 1.2], mic_location=np.array([[5.5], [3], [1.2]]), snr_db=25)\n",
        "    num_files += 1\n",
        "    print(f\"{wav_file} - Processed {num_files} files\")"
      ],
      "metadata": {
        "id": "yxsQYmSa35q1"
      },
      "execution_count": null,
      "outputs": []
    },
    {
      "cell_type": "code",
      "source": [
        "wav_path_augment = wav_path # directory of original speaker\n",
        "out_path_augment = f\"{wav_path_augment}/BR01_augments\"\n",
        "for wav_file in sorted(os.listdir(wav_path_augment)):\n",
        "  if wav_file.endswith('_orig.wav'):\n",
        "    wav_file_path = os.path.join(wav_path_augment, wav_file)\n",
        "    out_file = wav_file.replace('-1_orig.wav', '-1.wav')\n",
        "    out_file_path = os.path.join(out_path_augment, out_file)\n",
        "    shutil.copy(wav_file_path, out_file_path)"
      ],
      "metadata": {
        "id": "p8S6SfquDXt7"
      },
      "execution_count": null,
      "outputs": []
    }
  ]
}